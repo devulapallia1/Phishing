{
  "nbformat": 4,
  "nbformat_minor": 0,
  "metadata": {
    "colab": {
      "provenance": [],
      "include_colab_link": true
    },
    "kernelspec": {
      "name": "python3",
      "display_name": "Python 3"
    },
    "language_info": {
      "name": "python"
    }
  },
  "cells": [
    {
      "cell_type": "markdown",
      "metadata": {
        "id": "view-in-github",
        "colab_type": "text"
      },
      "source": [
        "<a href=\"https://colab.research.google.com/github/devulapallia1/Phishing/blob/main/592ML_keras_phishing_encode.ipynb\" target=\"_parent\"><img src=\"https://colab.research.google.com/assets/colab-badge.svg\" alt=\"Open In Colab\"/></a>"
      ]
    },
    {
      "cell_type": "code",
      "execution_count": null,
      "metadata": {
        "colab": {
          "base_uri": "https://localhost:8080/"
        },
        "id": "r0pRH3IrWVxE",
        "outputId": "031d7e5d-ab73-4be2-a374-c41c335f328d"
      },
      "outputs": [
        {
          "output_type": "stream",
          "name": "stdout",
          "text": [
            "TensorFlow version: 2.12.0\n"
          ]
        }
      ],
      "source": [
        "import tensorflow as tf\n",
        "print(\"TensorFlow version:\", tf.__version__)\n",
        "import numpy as np\n",
        "import pandas as pd"
      ]
    },
    {
      "cell_type": "code",
      "source": [
        "from google.colab import drive\n",
        "drive.mount('/content/drive')  # mount my Google Drive on runtime"
      ],
      "metadata": {
        "id": "COY9oQX3q6i-",
        "colab": {
          "base_uri": "https://localhost:8080/"
        },
        "outputId": "72cfbdd4-7504-4663-fe3a-dda4b07fc445"
      },
      "execution_count": null,
      "outputs": [
        {
          "output_type": "stream",
          "name": "stdout",
          "text": [
            "Mounted at /content/drive\n"
          ]
        }
      ]
    },
    {
      "cell_type": "code",
      "source": [
        "from sklearn.model_selection import train_test_split\n",
        "from keras.preprocessing.text import Tokenizer"
      ],
      "metadata": {
        "id": "lhY1CHlAgCUA"
      },
      "execution_count": null,
      "outputs": []
    },
    {
      "cell_type": "code",
      "source": [
        "# same as assignment 2, dataset is from:\n",
        "# www.kaggle.com/code/mohamedgalal1/phishing-detection-using-ml-techniques/data\n",
        "# There are 507,195 urls in this dataset with 28% bad (/phishing) urls:\n",
        "\n",
        "# specify the path and file name:\n",
        "file = 'drive/MyDrive/Colab Notebooks/.../phishing_site_urls.csv' # <- you need to use the file location in your Google drive\n",
        "data = pd.read_csv(file)\n",
        "print(data.head())  # print to understand the dataset"
      ],
      "metadata": {
        "id": "Ai8cCk_SaYh8"
      },
      "execution_count": null,
      "outputs": []
    },
    {
      "cell_type": "code",
      "source": [
        "# data preprocessing:\n",
        "\n",
        "# replace labels\n",
        "data['Label'] = data['Label'].replace({'bad': 0, 'good': 1})\n",
        "\n",
        "# remove duplicates\n",
        "data.drop(data[data.URL.duplicated() == True].index, axis=0, inplace=True)\n",
        "data.reset_index(drop=True)"
      ],
      "metadata": {
        "id": "_zuuAMZ49I45"
      },
      "execution_count": null,
      "outputs": []
    },
    {
      "cell_type": "code",
      "source": [
        "print(data.head())  # print to see the changes"
      ],
      "metadata": {
        "colab": {
          "base_uri": "https://localhost:8080/"
        },
        "id": "pZTV79PdAOlB",
        "outputId": "dd9add1a-78df-40c0-c20a-10afb9978afd"
      },
      "execution_count": null,
      "outputs": [
        {
          "output_type": "stream",
          "name": "stdout",
          "text": [
            "                                                 URL  Label\n",
            "0  nobell.it/70ffb52d079109dca5664cce6f317373782/...      0\n",
            "1  www.dghjdgf.com/paypal.co.uk/cycgi-bin/webscrc...      0\n",
            "2  serviciosbys.com/paypal.cgi.bin.get-into.herf....      0\n",
            "3  mail.printakid.com/www.online.americanexpress....      0\n",
            "4  thewhiskeydregs.com/wp-content/themes/widescre...      0\n"
          ]
        }
      ]
    },
    {
      "cell_type": "code",
      "source": [
        "# reference: https://towardsdatascience.com/how-to-preprocess-character-level-text-with-keras-349065121089\n",
        "\n",
        "# Convert characters in URLs to integers:\n",
        "\n",
        "tokenizer = Tokenizer(char_level=True)\n",
        "tokenizer.fit_on_texts(data['URL'])\n",
        "data['encoded']= tokenizer.texts_to_sequences(data['URL'])  # add a column 'encoded' that converts url into a squence of integers"
      ],
      "metadata": {
        "id": "812w7W60MESq"
      },
      "execution_count": null,
      "outputs": []
    },
    {
      "cell_type": "code",
      "source": [
        "tokenizer.word_index  # you can see the vocabulary: 'e'->1, 'o'->2, '/' ->5, '.' ->12, 'w'->21"
      ],
      "metadata": {
        "id": "gSKoQm-SBG8a"
      },
      "execution_count": null,
      "outputs": []
    },
    {
      "cell_type": "code",
      "source": [
        "print(data.head())  # you will see the encoded column that shows each URL is now a sequence of integers"
      ],
      "metadata": {
        "id": "SBFXkG4WkyvV"
      },
      "execution_count": null,
      "outputs": []
    },
    {
      "cell_type": "code",
      "source": [
        "# convert x (a list of integers) into a 2D array\n",
        "def to2D(x):\n",
        "  N = 400\n",
        "  dim = int(N/2) # my image will be 2 * N/2. You should change it to a different dimension based on experiments\n",
        "  size = len(x)\n",
        "  if (size > N):\n",
        "    size = N\n",
        "  image = np.zeros([N])  # start from zeros\n",
        "  for i in range(0, size):\n",
        "    image[i] = x[i]\n",
        "  image = image.reshape(2, dim)\n",
        "  return image"
      ],
      "metadata": {
        "id": "L7oulIRfn9c7"
      },
      "execution_count": null,
      "outputs": []
    },
    {
      "cell_type": "code",
      "source": [
        "# convert the encoded column, which is a list, into a 2D array\n",
        "# my image is 2 * someValue in the function to2D. You should change it based on experiments.\n",
        "\n",
        "data['image'] = data['encoded'].apply(lambda x : to2D(x)) # x is a list, which cannot be re-shaped. Need to use np for help"
      ],
      "metadata": {
        "id": "RuXEs9a9nTfB"
      },
      "execution_count": null,
      "outputs": []
    },
    {
      "cell_type": "code",
      "source": [
        "print(data.head())  # you will see the image column that shows each URL is now a 2D array"
      ],
      "metadata": {
        "id": "6CVxIktuqFa6"
      },
      "execution_count": null,
      "outputs": []
    },
    {
      "cell_type": "code",
      "source": [
        "# machine learing is to find a function f such that y = f(X), where X is data and y is its label\n",
        "# get X and y ready\n",
        "\n",
        "X = np.array(data['image'].tolist())\n",
        "y = data['Label'].astype('float32')"
      ],
      "metadata": {
        "id": "Hm90xr1cnDcF"
      },
      "execution_count": null,
      "outputs": []
    },
    {
      "cell_type": "code",
      "source": [
        "# the original dataset is too big. Choose a small percentage for X_train, y_train\n",
        "X_train, X_test, y_train, y_test = train_test_split(X, y, test_size=0.5, random_state=0)"
      ],
      "metadata": {
        "id": "3-R9ZyXWHNcb"
      },
      "execution_count": null,
      "outputs": []
    },
    {
      "cell_type": "code",
      "source": [
        "# define your CNN model\n",
        "# using keras functional API\n",
        "yourModel= tf.keras.Sequential()\n",
        "# add layers onto your model:\n",
        "\n",
        "# compile your model\n",
        "yourModel.compile(optimizer='adam', loss=tf.keras.losses.BinaryCrossentropy(), metrics=['accuracy'])\n",
        "\n",
        "# train the model and store the training history:\n",
        "history = yourModel.fit(X_train, y_train, validation_split=0.2, epochs=10, batch_size=64)  # use 20% of training set for validation set\n",
        "\n"
      ],
      "metadata": {
        "id": "_GbjqVBzGm51"
      },
      "execution_count": null,
      "outputs": []
    }
  ]
}